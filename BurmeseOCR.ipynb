{
 "cells": [
  {
   "cell_type": "markdown",
   "metadata": {},
   "source": [
    "# Burmese OCR using Tesseract\n",
    "\n",
    "This notebook provides OCR functionality for Burmese text using Google Tesseract."
   ]
  },
  {
   "cell_type": "code",
   "execution_count": null,
   "metadata": {},
   "source": [
    "# Install required packages\n",
    "!apt-get install -y tesseract-ocr\n",
    "!pip install pytesseract Pillow pdf2image\n",
    "\n",
    "# Install Burmese language data\n",
    "!wget https://github.com/tesseract-ocr/tessdata/raw/main/mya.traineddata\n",
    "!mv mya.traineddata /usr/share/tesseract-ocr/4.00/tessdata/"
   ]
  },
  {
   "cell_type": "code",
   "execution_count": null,
   "metadata": {},
   "source": [
    "import os\n",
    "import pytesseract\n",
    "from PIL import Image\n",
    "from pdf2image import convert_from_path\n",
    "from google.colab import files\n",
    "import tempfile"
   ]
  },
  {
   "cell_type": "code",
   "execution_count": null,
   "metadata": {},
   "source": [
    "def process_image(image_path):\n",
    "    \"\"\"Process a single image and return extracted text\"\"\"\n",
    "    image = Image.open(image_path)\n",
    "    text = pytesseract.image_to_string(image, lang='mya')\n",
    "    return text\n",
    "\n",
    "def process_pdf(pdf_path):\n",
    "    \"\"\"Convert PDF to images and process each page\"\"\"\n",
    "    pages = convert_from_path(pdf_path)\n",
    "    text_results = []\n",
    "    \n",
    "    for i, page in enumerate(pages):\n",
    "        with tempfile.NamedTemporaryFile(suffix='.png', delete=False) as tmp:\n",
    "            page.save(tmp.name, 'PNG')\n",
    "            text = process_image(tmp.name)\n",
    "            text_results.append(f\"Page {i+1}:\\n{text}\\n\")\n",
    "            os.unlink(tmp.name)\n",
    "    \n",
    "    return '\\n'.join(text_results)"
   ]
  },
  {
   "cell_type": "code",
   "execution_count": null,
   "metadata": {},
   "source": [
    "# File upload widget\n",
    "print(\"Upload your PDF or image file (supported formats: PDF, PNG, JPG, JPEG)\")\n",
    "uploaded = files.upload()\n",
    "\n",
    "for filename in uploaded.keys():\n",
    "    print(f\"\\nProcessing {filename}...\")\n",
    "    \n",
    "    # Save uploaded file\n",
    "    with open(filename, 'wb') as f:\n",
    "        f.write(uploaded[filename])\n",
    "    \n",
    "    # Process based on file type\n",
    "    if filename.lower().endswith('.pdf'):\n",
    "        text = process_pdf(filename)\n",
    "    else:\n",
    "        text = process_image(filename)\n",
    "    \n",
    "    print(\"\\nExtracted Text:\")\n",
    "    print(text)\n",
    "    \n",
    "    # Clean up\n",
    "    os.remove(filename)"
   ]
  }
 ],
 "metadata": {
  "language_info": {
   "name": "python"
  }
 },
 "nbformat": 4,
 "nbformat_minor": 4
}