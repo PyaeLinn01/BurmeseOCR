{
 "cells": [
  {
   "cell_type": "markdown",
   "metadata": {},
   "source": [
    "# Burmese OCR using Tesseract\n",
    "\n",
    "This notebook provides OCR functionality for Burmese text using Google Tesseract."
   ]
  },
  {
   "cell_type": "code",
   "execution_count": null,
   "metadata": {},
   "source": [
    "# Install required packages\n",
    "!apt-get update\n",
    "!apt-get install -y tesseract-ocr poppler-utils\n",
    "!pip install pytesseract Pillow pdf2image\n",
    "\n",
    "# Install Burmese language data\n",
    "!wget https://github.com/tesseract-ocr/tessdata/raw/main/mya.traineddata\n",
    "!mv mya.traineddata /usr/share/tesseract-ocr/4.00/tessdata/"
   ]
  },
  {
   "cell_type": "code",
   "execution_count": null,
   "metadata": {},
   "source": [
    "import os\n",
    "import pytesseract\n",
    "from PIL import Image\n",
    "from pdf2image import convert_from_path\n",
    "from google.colab import files\n",
    "import tempfile\n",
    "\n",
    "# Configure Tesseract\n",
    "custom_config = r'--oem 3 --psm 6 -l mya+eng'"
   ]
  },
  {
   "cell_type": "code",
   "execution_count": null,
   "metadata": {},
   "source": [
    "def process_image(image_path):\n",
    "    \"\"\"Process a single image and return extracted text\"\"\"\n",
    "    image = Image.open(image_path)\n",
    "    text = pytesseract.image_to_string(image, lang='mya', config=custom_config)\n",
    "    # Apply the same text corrections as in desktop version\n",
    "    text = text.replace('|', 'I').replace('၀', '0').replace('သ်', 'ာ')\n",
    "    text = text.replace('\\n\\n', '\\n').strip()\n",
    "    return text\n",
    "\n",
    "def process_pdf(pdf_path):\n",
    "    \"\"\"Convert PDF to images and process each page\"\"\"\n",
    "    try:\n",
    "        # Convert PDF to images with higher DPI for better quality\n",
    "        pages = convert_from_path(pdf_path, dpi=300)\n",
    "        text_results = []\n",
    "        \n",
    "        print(f\"Processing {len(pages)} pages...\")\n",
    "        \n",
    "        for i, page in enumerate(pages):\n",
    "            print(f\"Processing page {i+1}/{len(pages)}\")\n",
    "            with tempfile.NamedTemporaryFile(suffix='.png', delete=False) as tmp:\n",
    "                # Save page as PNG\n",
    "                page.save(tmp.name, 'PNG')\n",
    "                # Process the page\n",
    "                text = process_image(tmp.name)\n",
    "                text_results.append(f\"\\n## Page {i+1}\\n\\n```burmese\\n{text}\\n```\\n\")\n",
    "                # Clean up temporary file\n",
    "                os.unlink(tmp.name)\n",
    "        \n",
    "        return '\\n'.join(text_results)\n",
    "    except Exception as e:\n",
    "        print(f\"Error processing PDF: {str(e)}\")\n",
    "        raise"
   ]
  },
  {
   "cell_type": "code",
   "execution_count": null,
   "metadata": {},
   "source": [
    "# File upload widget\n",
    "print(\"Upload your PDF or image file (supported formats: PDF, PNG, JPG, JPEG)\")\n",
    "uploaded = files.upload()\n",
    "\n",
    "for filename in uploaded.keys():\n",
    "    print(f\"\\nProcessing {filename}...\")\n",
    "    \n",
    "    # Save uploaded file\n",
    "    with open(filename, 'wb') as f:\n",
    "        f.write(uploaded[filename])\n",
    "    \n",
    "    try:\n",
    "        # Process based on file type\n",
    "        if filename.lower().endswith('.pdf'):\n",
    "            text = process_pdf(filename)\n",
    "        else:\n",
    "            text = process_image(filename)\n",
    "        \n",
    "        print(\"\\nExtracted Text:\")\n",
    "        print(text)\n",
    "        \n",
    "        # Save output to a markdown file\n",
    "        output_filename = f\"{os.path.splitext(filename)[0]}_extracted.md\"\n",
    "        with open(output_filename, 'w', encoding='utf-8') as f:\n",
    "            f.write(f\"# OCR Results - {filename}\\n\\n{text}\")\n",
    "        \n",
    "        # Provide download link\n",
    "        files.download(output_filename)\n",
    "        \n",
    "    except Exception as e:\n",
    "        print(f\"Error processing {filename}: {str(e)}\")\n",
    "    finally:\n",
    "        # Clean up\n",
    "        if os.path.exists(filename):\n",
    "            os.remove(filename)\n",
    "        if os.path.exists(output_filename):\n",
    "            os.remove(output_filename)"
   ]
  }
 ],
 "metadata": {
  "language_info": {
   "name": "python"
  }
 },
 "nbformat": 4,
 "nbformat_minor": 4
}